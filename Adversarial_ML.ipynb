{
 "cells": [
  {
   "cell_type": "code",
   "execution_count": 1,
   "id": "initial_id",
   "metadata": {
    "collapsed": true,
    "ExecuteTime": {
     "end_time": "2024-03-14T09:34:11.070313900Z",
     "start_time": "2024-03-14T09:34:08.277201600Z"
    }
   },
   "outputs": [
    {
     "name": "stdout",
     "output_type": "stream",
     "text": [
      "Requirement already satisfied: adversarial-robustness-toolbox in c:\\users\\mathi\\desktop\\centrale\\g3\\sdi\\venv\\lib\\site-packages (1.17.1)\n",
      "Requirement already satisfied: numpy>=1.18.0 in c:\\users\\mathi\\desktop\\centrale\\g3\\sdi\\venv\\lib\\site-packages (from adversarial-robustness-toolbox) (1.26.1)\n",
      "Requirement already satisfied: scipy>=1.4.1 in c:\\users\\mathi\\desktop\\centrale\\g3\\sdi\\venv\\lib\\site-packages (from adversarial-robustness-toolbox) (1.11.3)\n",
      "Requirement already satisfied: scikit-learn>=0.22.2 in c:\\users\\mathi\\desktop\\centrale\\g3\\sdi\\venv\\lib\\site-packages (from adversarial-robustness-toolbox) (1.3.2)\n",
      "Requirement already satisfied: six in c:\\users\\mathi\\desktop\\centrale\\g3\\sdi\\venv\\lib\\site-packages (from adversarial-robustness-toolbox) (1.16.0)\n",
      "Requirement already satisfied: setuptools in c:\\users\\mathi\\desktop\\centrale\\g3\\sdi\\venv\\lib\\site-packages (from adversarial-robustness-toolbox) (68.2.2)\n",
      "Requirement already satisfied: tqdm in c:\\users\\mathi\\desktop\\centrale\\g3\\sdi\\venv\\lib\\site-packages (from adversarial-robustness-toolbox) (4.66.2)\n",
      "Requirement already satisfied: joblib>=1.1.1 in c:\\users\\mathi\\desktop\\centrale\\g3\\sdi\\venv\\lib\\site-packages (from scikit-learn>=0.22.2->adversarial-robustness-toolbox) (1.3.2)\n",
      "Requirement already satisfied: threadpoolctl>=2.0.0 in c:\\users\\mathi\\desktop\\centrale\\g3\\sdi\\venv\\lib\\site-packages (from scikit-learn>=0.22.2->adversarial-robustness-toolbox) (3.2.0)\n",
      "Requirement already satisfied: colorama in c:\\users\\mathi\\desktop\\centrale\\g3\\sdi\\venv\\lib\\site-packages (from tqdm->adversarial-robustness-toolbox) (0.4.6)\n"
     ]
    }
   ],
   "source": [
    "!pip install adversarial-robustness-toolbox"
   ]
  },
  {
   "cell_type": "code",
   "outputs": [],
   "source": [
    "import numpy as np\n",
    "import matplotlib.pyplot as plt\n",
    "import pandas as pd"
   ],
   "metadata": {
    "collapsed": false,
    "ExecuteTime": {
     "end_time": "2024-03-14T10:18:37.935510700Z",
     "start_time": "2024-03-14T10:18:37.920043800Z"
    }
   },
   "id": "37f1bad4eb998ada",
   "execution_count": 105
  },
  {
   "cell_type": "code",
   "outputs": [],
   "source": [
    "data_path = './recruitmentdataset-2022-1.3.csv'"
   ],
   "metadata": {
    "collapsed": false,
    "ExecuteTime": {
     "end_time": "2024-03-14T10:18:38.142622800Z",
     "start_time": "2024-03-14T10:18:38.132870100Z"
    }
   },
   "id": "7e3013b54e013df3",
   "execution_count": 106
  },
  {
   "cell_type": "code",
   "outputs": [
    {
     "data": {
      "text/plain": "       Id  gender  age nationality     sport  ind-university_grade  \\\n0  x8011e  female   24      German  Swimming                    70   \n1  x6077a    male   26      German      Golf                    67   \n2  x6006e  female   23       Dutch   Running                    67   \n3  x2173b    male   24       Dutch   Cricket                    70   \n4  x6241a  female   26      German      Golf                    59   \n5  x9063d  female   26       Dutch     Chess                    63   \n6  x5785d  female   27       Dutch    Tennis                    63   \n7  x8767c  female   22       Dutch  Swimming                    71   \n8  x6541b  female   28       Dutch  Football                    65   \n9  x3890b    male   24       Dutch  Football                    55   \n\n   ind-debateclub  ind-programming_exp  ind-international_exp  \\\n0           False                False                  False   \n1           False                 True                  False   \n2           False                 True                   True   \n3           False                 True                  False   \n4           False                False                  False   \n5           False                False                  False   \n6            True                 True                  False   \n7           False                 True                  False   \n8            True                False                  False   \n9            True                False                  False   \n\n   ind-entrepeneur_exp  ind-languages  ind-exact_study ind-degree company  \\\n0                False              1             True        phd       A   \n1                False              2             True   bachelor       A   \n2                False              0             True     master       A   \n3                False              1             True     master       A   \n4                False              1            False     master       A   \n5                False              1             True   bachelor       A   \n6                False              2             True   bachelor       A   \n7                False              1             True     master       A   \n8                 True              3            False   bachelor       A   \n9                 True              3            False     master       A   \n\n   decision  \n0      True  \n1     False  \n2     False  \n3      True  \n4      True  \n5      True  \n6     False  \n7      True  \n8     False  \n9      True  ",
      "text/html": "<div>\n<style scoped>\n    .dataframe tbody tr th:only-of-type {\n        vertical-align: middle;\n    }\n\n    .dataframe tbody tr th {\n        vertical-align: top;\n    }\n\n    .dataframe thead th {\n        text-align: right;\n    }\n</style>\n<table border=\"1\" class=\"dataframe\">\n  <thead>\n    <tr style=\"text-align: right;\">\n      <th></th>\n      <th>Id</th>\n      <th>gender</th>\n      <th>age</th>\n      <th>nationality</th>\n      <th>sport</th>\n      <th>ind-university_grade</th>\n      <th>ind-debateclub</th>\n      <th>ind-programming_exp</th>\n      <th>ind-international_exp</th>\n      <th>ind-entrepeneur_exp</th>\n      <th>ind-languages</th>\n      <th>ind-exact_study</th>\n      <th>ind-degree</th>\n      <th>company</th>\n      <th>decision</th>\n    </tr>\n  </thead>\n  <tbody>\n    <tr>\n      <th>0</th>\n      <td>x8011e</td>\n      <td>female</td>\n      <td>24</td>\n      <td>German</td>\n      <td>Swimming</td>\n      <td>70</td>\n      <td>False</td>\n      <td>False</td>\n      <td>False</td>\n      <td>False</td>\n      <td>1</td>\n      <td>True</td>\n      <td>phd</td>\n      <td>A</td>\n      <td>True</td>\n    </tr>\n    <tr>\n      <th>1</th>\n      <td>x6077a</td>\n      <td>male</td>\n      <td>26</td>\n      <td>German</td>\n      <td>Golf</td>\n      <td>67</td>\n      <td>False</td>\n      <td>True</td>\n      <td>False</td>\n      <td>False</td>\n      <td>2</td>\n      <td>True</td>\n      <td>bachelor</td>\n      <td>A</td>\n      <td>False</td>\n    </tr>\n    <tr>\n      <th>2</th>\n      <td>x6006e</td>\n      <td>female</td>\n      <td>23</td>\n      <td>Dutch</td>\n      <td>Running</td>\n      <td>67</td>\n      <td>False</td>\n      <td>True</td>\n      <td>True</td>\n      <td>False</td>\n      <td>0</td>\n      <td>True</td>\n      <td>master</td>\n      <td>A</td>\n      <td>False</td>\n    </tr>\n    <tr>\n      <th>3</th>\n      <td>x2173b</td>\n      <td>male</td>\n      <td>24</td>\n      <td>Dutch</td>\n      <td>Cricket</td>\n      <td>70</td>\n      <td>False</td>\n      <td>True</td>\n      <td>False</td>\n      <td>False</td>\n      <td>1</td>\n      <td>True</td>\n      <td>master</td>\n      <td>A</td>\n      <td>True</td>\n    </tr>\n    <tr>\n      <th>4</th>\n      <td>x6241a</td>\n      <td>female</td>\n      <td>26</td>\n      <td>German</td>\n      <td>Golf</td>\n      <td>59</td>\n      <td>False</td>\n      <td>False</td>\n      <td>False</td>\n      <td>False</td>\n      <td>1</td>\n      <td>False</td>\n      <td>master</td>\n      <td>A</td>\n      <td>True</td>\n    </tr>\n    <tr>\n      <th>5</th>\n      <td>x9063d</td>\n      <td>female</td>\n      <td>26</td>\n      <td>Dutch</td>\n      <td>Chess</td>\n      <td>63</td>\n      <td>False</td>\n      <td>False</td>\n      <td>False</td>\n      <td>False</td>\n      <td>1</td>\n      <td>True</td>\n      <td>bachelor</td>\n      <td>A</td>\n      <td>True</td>\n    </tr>\n    <tr>\n      <th>6</th>\n      <td>x5785d</td>\n      <td>female</td>\n      <td>27</td>\n      <td>Dutch</td>\n      <td>Tennis</td>\n      <td>63</td>\n      <td>True</td>\n      <td>True</td>\n      <td>False</td>\n      <td>False</td>\n      <td>2</td>\n      <td>True</td>\n      <td>bachelor</td>\n      <td>A</td>\n      <td>False</td>\n    </tr>\n    <tr>\n      <th>7</th>\n      <td>x8767c</td>\n      <td>female</td>\n      <td>22</td>\n      <td>Dutch</td>\n      <td>Swimming</td>\n      <td>71</td>\n      <td>False</td>\n      <td>True</td>\n      <td>False</td>\n      <td>False</td>\n      <td>1</td>\n      <td>True</td>\n      <td>master</td>\n      <td>A</td>\n      <td>True</td>\n    </tr>\n    <tr>\n      <th>8</th>\n      <td>x6541b</td>\n      <td>female</td>\n      <td>28</td>\n      <td>Dutch</td>\n      <td>Football</td>\n      <td>65</td>\n      <td>True</td>\n      <td>False</td>\n      <td>False</td>\n      <td>True</td>\n      <td>3</td>\n      <td>False</td>\n      <td>bachelor</td>\n      <td>A</td>\n      <td>False</td>\n    </tr>\n    <tr>\n      <th>9</th>\n      <td>x3890b</td>\n      <td>male</td>\n      <td>24</td>\n      <td>Dutch</td>\n      <td>Football</td>\n      <td>55</td>\n      <td>True</td>\n      <td>False</td>\n      <td>False</td>\n      <td>True</td>\n      <td>3</td>\n      <td>False</td>\n      <td>master</td>\n      <td>A</td>\n      <td>True</td>\n    </tr>\n  </tbody>\n</table>\n</div>"
     },
     "execution_count": 107,
     "metadata": {},
     "output_type": "execute_result"
    }
   ],
   "source": [
    "df = pd.read_csv(data_path)\n",
    "df.head(10)"
   ],
   "metadata": {
    "collapsed": false,
    "ExecuteTime": {
     "end_time": "2024-03-14T10:18:38.361826800Z",
     "start_time": "2024-03-14T10:18:38.334675900Z"
    }
   },
   "id": "bd350b68b4f2278e",
   "execution_count": 107
  },
  {
   "cell_type": "code",
   "outputs": [
    {
     "data": {
      "text/plain": "   age  ind-university_grade  ind-debateclub  ind-programming_exp  \\\n0   24                    70           False                False   \n1   26                    67           False                 True   \n2   23                    67           False                 True   \n3   24                    70           False                 True   \n4   26                    59           False                False   \n5   26                    63           False                False   \n6   27                    63            True                 True   \n7   22                    71           False                 True   \n8   28                    65            True                False   \n9   24                    55            True                False   \n\n   ind-international_exp  ind-entrepeneur_exp  ind-languages  ind-exact_study  \\\n0                  False                False              1             True   \n1                  False                False              2             True   \n2                   True                False              0             True   \n3                  False                False              1             True   \n4                  False                False              1            False   \n5                  False                False              1             True   \n6                  False                False              2             True   \n7                  False                False              1             True   \n8                  False                 True              3            False   \n9                  False                 True              3            False   \n\n   decision  gender_male  ...  sport_Golf  sport_Rugby  sport_Running  \\\n0      True        False  ...       False        False          False   \n1     False         True  ...        True        False          False   \n2     False        False  ...       False        False           True   \n3      True         True  ...       False        False          False   \n4      True        False  ...        True        False          False   \n5      True        False  ...       False        False          False   \n6     False        False  ...       False        False          False   \n7      True        False  ...       False        False          False   \n8     False        False  ...       False        False          False   \n9      True         True  ...       False        False          False   \n\n   sport_Swimming  sport_Tennis  ind-degree_master  ind-degree_phd  company_B  \\\n0            True         False              False            True      False   \n1           False         False              False           False      False   \n2           False         False               True           False      False   \n3           False         False               True           False      False   \n4           False         False               True           False      False   \n5           False         False              False           False      False   \n6           False          True              False           False      False   \n7            True         False               True           False      False   \n8           False         False              False           False      False   \n9           False         False               True           False      False   \n\n   company_C  company_D  \n0      False      False  \n1      False      False  \n2      False      False  \n3      False      False  \n4      False      False  \n5      False      False  \n6      False      False  \n7      False      False  \n8      False      False  \n9      False      False  \n\n[10 rows x 25 columns]",
      "text/html": "<div>\n<style scoped>\n    .dataframe tbody tr th:only-of-type {\n        vertical-align: middle;\n    }\n\n    .dataframe tbody tr th {\n        vertical-align: top;\n    }\n\n    .dataframe thead th {\n        text-align: right;\n    }\n</style>\n<table border=\"1\" class=\"dataframe\">\n  <thead>\n    <tr style=\"text-align: right;\">\n      <th></th>\n      <th>age</th>\n      <th>ind-university_grade</th>\n      <th>ind-debateclub</th>\n      <th>ind-programming_exp</th>\n      <th>ind-international_exp</th>\n      <th>ind-entrepeneur_exp</th>\n      <th>ind-languages</th>\n      <th>ind-exact_study</th>\n      <th>decision</th>\n      <th>gender_male</th>\n      <th>...</th>\n      <th>sport_Golf</th>\n      <th>sport_Rugby</th>\n      <th>sport_Running</th>\n      <th>sport_Swimming</th>\n      <th>sport_Tennis</th>\n      <th>ind-degree_master</th>\n      <th>ind-degree_phd</th>\n      <th>company_B</th>\n      <th>company_C</th>\n      <th>company_D</th>\n    </tr>\n  </thead>\n  <tbody>\n    <tr>\n      <th>0</th>\n      <td>24</td>\n      <td>70</td>\n      <td>False</td>\n      <td>False</td>\n      <td>False</td>\n      <td>False</td>\n      <td>1</td>\n      <td>True</td>\n      <td>True</td>\n      <td>False</td>\n      <td>...</td>\n      <td>False</td>\n      <td>False</td>\n      <td>False</td>\n      <td>True</td>\n      <td>False</td>\n      <td>False</td>\n      <td>True</td>\n      <td>False</td>\n      <td>False</td>\n      <td>False</td>\n    </tr>\n    <tr>\n      <th>1</th>\n      <td>26</td>\n      <td>67</td>\n      <td>False</td>\n      <td>True</td>\n      <td>False</td>\n      <td>False</td>\n      <td>2</td>\n      <td>True</td>\n      <td>False</td>\n      <td>True</td>\n      <td>...</td>\n      <td>True</td>\n      <td>False</td>\n      <td>False</td>\n      <td>False</td>\n      <td>False</td>\n      <td>False</td>\n      <td>False</td>\n      <td>False</td>\n      <td>False</td>\n      <td>False</td>\n    </tr>\n    <tr>\n      <th>2</th>\n      <td>23</td>\n      <td>67</td>\n      <td>False</td>\n      <td>True</td>\n      <td>True</td>\n      <td>False</td>\n      <td>0</td>\n      <td>True</td>\n      <td>False</td>\n      <td>False</td>\n      <td>...</td>\n      <td>False</td>\n      <td>False</td>\n      <td>True</td>\n      <td>False</td>\n      <td>False</td>\n      <td>True</td>\n      <td>False</td>\n      <td>False</td>\n      <td>False</td>\n      <td>False</td>\n    </tr>\n    <tr>\n      <th>3</th>\n      <td>24</td>\n      <td>70</td>\n      <td>False</td>\n      <td>True</td>\n      <td>False</td>\n      <td>False</td>\n      <td>1</td>\n      <td>True</td>\n      <td>True</td>\n      <td>True</td>\n      <td>...</td>\n      <td>False</td>\n      <td>False</td>\n      <td>False</td>\n      <td>False</td>\n      <td>False</td>\n      <td>True</td>\n      <td>False</td>\n      <td>False</td>\n      <td>False</td>\n      <td>False</td>\n    </tr>\n    <tr>\n      <th>4</th>\n      <td>26</td>\n      <td>59</td>\n      <td>False</td>\n      <td>False</td>\n      <td>False</td>\n      <td>False</td>\n      <td>1</td>\n      <td>False</td>\n      <td>True</td>\n      <td>False</td>\n      <td>...</td>\n      <td>True</td>\n      <td>False</td>\n      <td>False</td>\n      <td>False</td>\n      <td>False</td>\n      <td>True</td>\n      <td>False</td>\n      <td>False</td>\n      <td>False</td>\n      <td>False</td>\n    </tr>\n    <tr>\n      <th>5</th>\n      <td>26</td>\n      <td>63</td>\n      <td>False</td>\n      <td>False</td>\n      <td>False</td>\n      <td>False</td>\n      <td>1</td>\n      <td>True</td>\n      <td>True</td>\n      <td>False</td>\n      <td>...</td>\n      <td>False</td>\n      <td>False</td>\n      <td>False</td>\n      <td>False</td>\n      <td>False</td>\n      <td>False</td>\n      <td>False</td>\n      <td>False</td>\n      <td>False</td>\n      <td>False</td>\n    </tr>\n    <tr>\n      <th>6</th>\n      <td>27</td>\n      <td>63</td>\n      <td>True</td>\n      <td>True</td>\n      <td>False</td>\n      <td>False</td>\n      <td>2</td>\n      <td>True</td>\n      <td>False</td>\n      <td>False</td>\n      <td>...</td>\n      <td>False</td>\n      <td>False</td>\n      <td>False</td>\n      <td>False</td>\n      <td>True</td>\n      <td>False</td>\n      <td>False</td>\n      <td>False</td>\n      <td>False</td>\n      <td>False</td>\n    </tr>\n    <tr>\n      <th>7</th>\n      <td>22</td>\n      <td>71</td>\n      <td>False</td>\n      <td>True</td>\n      <td>False</td>\n      <td>False</td>\n      <td>1</td>\n      <td>True</td>\n      <td>True</td>\n      <td>False</td>\n      <td>...</td>\n      <td>False</td>\n      <td>False</td>\n      <td>False</td>\n      <td>True</td>\n      <td>False</td>\n      <td>True</td>\n      <td>False</td>\n      <td>False</td>\n      <td>False</td>\n      <td>False</td>\n    </tr>\n    <tr>\n      <th>8</th>\n      <td>28</td>\n      <td>65</td>\n      <td>True</td>\n      <td>False</td>\n      <td>False</td>\n      <td>True</td>\n      <td>3</td>\n      <td>False</td>\n      <td>False</td>\n      <td>False</td>\n      <td>...</td>\n      <td>False</td>\n      <td>False</td>\n      <td>False</td>\n      <td>False</td>\n      <td>False</td>\n      <td>False</td>\n      <td>False</td>\n      <td>False</td>\n      <td>False</td>\n      <td>False</td>\n    </tr>\n    <tr>\n      <th>9</th>\n      <td>24</td>\n      <td>55</td>\n      <td>True</td>\n      <td>False</td>\n      <td>False</td>\n      <td>True</td>\n      <td>3</td>\n      <td>False</td>\n      <td>True</td>\n      <td>True</td>\n      <td>...</td>\n      <td>False</td>\n      <td>False</td>\n      <td>False</td>\n      <td>False</td>\n      <td>False</td>\n      <td>True</td>\n      <td>False</td>\n      <td>False</td>\n      <td>False</td>\n      <td>False</td>\n    </tr>\n  </tbody>\n</table>\n<p>10 rows × 25 columns</p>\n</div>"
     },
     "execution_count": 108,
     "metadata": {},
     "output_type": "execute_result"
    }
   ],
   "source": [
    "from sklearn.model_selection import train_test_split\n",
    "from sklearn.preprocessing import StandardScaler\n",
    "from sklearn.svm import SVC\n",
    "from sklearn.metrics import accuracy_score\n",
    "from sklearn.preprocessing import LabelEncoder\n",
    "df = df.drop(['Id'], axis=1)\n",
    "\n",
    "df = pd.get_dummies(df, drop_first=True)\n",
    "\n",
    "# Display the first few rows of the dataframe\n",
    "df.head(10)"
   ],
   "metadata": {
    "collapsed": false,
    "ExecuteTime": {
     "end_time": "2024-03-14T10:18:38.586268300Z",
     "start_time": "2024-03-14T10:18:38.549839400Z"
    }
   },
   "id": "9dfd994e35dc0973",
   "execution_count": 108
  },
  {
   "cell_type": "code",
   "outputs": [],
   "source": [
    "X = df.drop(['decision'], axis=1)\n",
    "y = df['decision']\n",
    "\n",
    "# One-hot encode the target variable (one column for each class)\n",
    "y = pd.get_dummies(y)"
   ],
   "metadata": {
    "collapsed": false,
    "ExecuteTime": {
     "end_time": "2024-03-14T10:18:38.963432900Z",
     "start_time": "2024-03-14T10:18:38.952077500Z"
    }
   },
   "id": "52a15c751ce7f194",
   "execution_count": 109
  },
  {
   "cell_type": "code",
   "outputs": [],
   "source": [
    "X_train, X_test, y_train, y_test = train_test_split(X, y, test_size=0.2, random_state=42)\n",
    "\n",
    "scaler = StandardScaler()\n",
    "X_train = scaler.fit_transform(X_train)\n",
    "X_test = scaler.transform(X_test)"
   ],
   "metadata": {
    "collapsed": false,
    "ExecuteTime": {
     "end_time": "2024-03-14T10:18:39.422820600Z",
     "start_time": "2024-03-14T10:18:39.388893700Z"
    }
   },
   "id": "5e9db31669ddd88a",
   "execution_count": 110
  },
  {
   "cell_type": "code",
   "outputs": [
    {
     "name": "stdout",
     "output_type": "stream",
     "text": [
      "(3200, 24) (3200, 2)\n",
      "[[ True False]\n",
      " [False  True]\n",
      " [ True False]\n",
      " ...\n",
      " [ True False]\n",
      " [False  True]\n",
      " [ True False]]\n",
      "Accuracy on test data: 0.8375\n"
     ]
    }
   ],
   "source": [
    "from art.estimators.classification import SklearnClassifier\n",
    "model = SVC(C=1.0, kernel='rbf', gamma='auto')\n",
    "\n",
    "# Create a classifier from the trained model\n",
    "classifier = SklearnClassifier(model=model, clip_values=(0, 1))\n",
    "\n",
    "print(X_train.shape, y_train.shape)\n",
    "y_train = np.reshape(y_train, (-1, 2))\n",
    "print(y_train)\n",
    "\n",
    "classifier.fit(X_train, y_train)\n",
    "y_pred = classifier.predict(X_test)\n",
    "print('Accuracy on test data:', accuracy_score(y_test, y_pred))\n"
   ],
   "metadata": {
    "collapsed": false,
    "ExecuteTime": {
     "end_time": "2024-03-14T10:18:39.995317Z",
     "start_time": "2024-03-14T10:18:39.690289800Z"
    }
   },
   "id": "651dbac40bab5020",
   "execution_count": 111
  },
  {
   "cell_type": "code",
   "outputs": [],
   "source": [
    "from art.attacks.evasion import FastGradientMethod\n",
    "\n",
    "\n",
    "# Create the adversarial attack\n",
    "attack = FastGradientMethod(estimator=classifier, eps=0.6)\n",
    "\n",
    "# Generate the adversarial test examples\n",
    "X_test_adv = attack.generate(x=X_test)\n",
    "\n",
    "# Evaluate the classifier on the adversarial test examples\n",
    "y_pred_adv = classifier.predict(X_test_adv)\n",
    "print('Accuracy on adversarial test data:', accuracy_score(y_test, y_pred_adv))"
   ],
   "metadata": {
    "collapsed": false,
    "is_executing": true,
    "ExecuteTime": {
     "start_time": "2024-03-14T11:12:34.038684500Z"
    }
   },
   "id": "c01d7ccc6b5d585",
   "execution_count": null
  },
  {
   "cell_type": "code",
   "outputs": [
    {
     "name": "stdout",
     "output_type": "stream",
     "text": [
      "Loss sensitivity: 1.2213746\n",
      "Empirical robustness: 0.7117552534218877\n"
     ]
    }
   ],
   "source": [
    "#Metrics to study the robustness of the model (CLEVER, loss sensitivity, empirical robustness)\n",
    "from art.metrics import clever, loss_sensitivity, empirical_robustness\n",
    "clever = clever(classifier, X_test, y_test, batch_size=100, radius=2, norm=2)\n",
    "print('CLEVER score:', clever)\n",
    "\n",
    "loss_sensitivity = loss_sensitivity(classifier, X_test, y_test)\n",
    "print('Loss sensitivity:', loss_sensitivity)\n",
    "\n",
    "\n",
    "emp_robustness = empirical_robustness(classifier, X_test, 'fgsm')\n",
    "print('Empirical robustness:', emp_robustness)"
   ],
   "metadata": {
    "collapsed": false,
    "ExecuteTime": {
     "end_time": "2024-03-14T10:25:51.965554200Z",
     "start_time": "2024-03-14T10:25:21.405659400Z"
    }
   },
   "id": "3f75444a24785bf",
   "execution_count": 127
  },
  {
   "cell_type": "code",
   "outputs": [
    {
     "data": {
      "text/plain": "PGD - Random Initializations:   0%|          | 0/1 [00:00<?, ?it/s]",
      "application/vnd.jupyter.widget-view+json": {
       "version_major": 2,
       "version_minor": 0,
       "model_id": "6a3efa029c834f8fb1748f9e5b99306e"
      }
     },
     "metadata": {},
     "output_type": "display_data"
    },
    {
     "data": {
      "text/plain": "PGD - Iterations:   0%|          | 0/100 [00:00<?, ?it/s]",
      "application/vnd.jupyter.widget-view+json": {
       "version_major": 2,
       "version_minor": 0,
       "model_id": "68195baa2327486697c56896e046ef80"
      }
     },
     "metadata": {},
     "output_type": "display_data"
    },
    {
     "data": {
      "text/plain": "PGD - Random Initializations:   0%|          | 0/1 [00:00<?, ?it/s]",
      "application/vnd.jupyter.widget-view+json": {
       "version_major": 2,
       "version_minor": 0,
       "model_id": "6985e4606d384ad598dd28bcd6a6bfae"
      }
     },
     "metadata": {},
     "output_type": "display_data"
    },
    {
     "data": {
      "text/plain": "PGD - Iterations:   0%|          | 0/100 [00:00<?, ?it/s]",
      "application/vnd.jupyter.widget-view+json": {
       "version_major": 2,
       "version_minor": 0,
       "model_id": "b1752d6f05aa435d8f31191c853b73eb"
      }
     },
     "metadata": {},
     "output_type": "display_data"
    },
    {
     "data": {
      "text/plain": "PGD - Random Initializations:   0%|          | 0/1 [00:00<?, ?it/s]",
      "application/vnd.jupyter.widget-view+json": {
       "version_major": 2,
       "version_minor": 0,
       "model_id": "b7b0e9b477674263b2626167f6f17eea"
      }
     },
     "metadata": {},
     "output_type": "display_data"
    },
    {
     "data": {
      "text/plain": "PGD - Iterations:   0%|          | 0/100 [00:00<?, ?it/s]",
      "application/vnd.jupyter.widget-view+json": {
       "version_major": 2,
       "version_minor": 0,
       "model_id": "afb59ae907c04b548b75a5d4a2d0a249"
      }
     },
     "metadata": {},
     "output_type": "display_data"
    },
    {
     "data": {
      "text/plain": "PGD - Random Initializations:   0%|          | 0/1 [00:00<?, ?it/s]",
      "application/vnd.jupyter.widget-view+json": {
       "version_major": 2,
       "version_minor": 0,
       "model_id": "f20ab6d8424a4656b3efb00e17cb9e87"
      }
     },
     "metadata": {},
     "output_type": "display_data"
    },
    {
     "data": {
      "text/plain": "PGD - Iterations:   0%|          | 0/100 [00:00<?, ?it/s]",
      "application/vnd.jupyter.widget-view+json": {
       "version_major": 2,
       "version_minor": 0,
       "model_id": "456422108608419a956a7d6e6d26b9f0"
      }
     },
     "metadata": {},
     "output_type": "display_data"
    },
    {
     "ename": "KeyboardInterrupt",
     "evalue": "",
     "output_type": "error",
     "traceback": [
      "\u001B[1;31m---------------------------------------------------------------------------\u001B[0m",
      "\u001B[1;31mKeyboardInterrupt\u001B[0m                         Traceback (most recent call last)",
      "Cell \u001B[1;32mIn[116], line 8\u001B[0m\n\u001B[0;32m      5\u001B[0m attack \u001B[38;5;241m=\u001B[39m ProjectedGradientDescent(estimator\u001B[38;5;241m=\u001B[39mclassifier, eps\u001B[38;5;241m=\u001B[39m\u001B[38;5;241m0.5\u001B[39m)\n\u001B[0;32m      7\u001B[0m \u001B[38;5;66;03m# Generate the adversarial test examples\u001B[39;00m\n\u001B[1;32m----> 8\u001B[0m X_test_adv \u001B[38;5;241m=\u001B[39m \u001B[43mattack\u001B[49m\u001B[38;5;241;43m.\u001B[39;49m\u001B[43mgenerate\u001B[49m\u001B[43m(\u001B[49m\u001B[43mx\u001B[49m\u001B[38;5;241;43m=\u001B[39;49m\u001B[43mX_test\u001B[49m\u001B[43m)\u001B[49m\n\u001B[0;32m     10\u001B[0m \u001B[38;5;66;03m# Evaluate the classifier on the adversarial test examples\u001B[39;00m\n\u001B[0;32m     11\u001B[0m y_pred_adv \u001B[38;5;241m=\u001B[39m classifier\u001B[38;5;241m.\u001B[39mpredict(X_test_adv)\n",
      "File \u001B[1;32m~\\Desktop\\Centrale\\G3\\SDI\\venv\\Lib\\site-packages\\art\\attacks\\evasion\\projected_gradient_descent\\projected_gradient_descent.py:200\u001B[0m, in \u001B[0;36mProjectedGradientDescent.generate\u001B[1;34m(self, x, y, **kwargs)\u001B[0m\n\u001B[0;32m    185\u001B[0m \u001B[38;5;250m\u001B[39m\u001B[38;5;124;03m\"\"\"\u001B[39;00m\n\u001B[0;32m    186\u001B[0m \u001B[38;5;124;03mGenerate adversarial samples and return them in an array.\u001B[39;00m\n\u001B[0;32m    187\u001B[0m \n\u001B[1;32m   (...)\u001B[0m\n\u001B[0;32m    197\u001B[0m \u001B[38;5;124;03m:return: An array holding the adversarial examples.\u001B[39;00m\n\u001B[0;32m    198\u001B[0m \u001B[38;5;124;03m\"\"\"\u001B[39;00m\n\u001B[0;32m    199\u001B[0m logger\u001B[38;5;241m.\u001B[39minfo(\u001B[38;5;124m\"\u001B[39m\u001B[38;5;124mCreating adversarial samples.\u001B[39m\u001B[38;5;124m\"\u001B[39m)\n\u001B[1;32m--> 200\u001B[0m \u001B[38;5;28;01mreturn\u001B[39;00m \u001B[38;5;28;43mself\u001B[39;49m\u001B[38;5;241;43m.\u001B[39;49m\u001B[43m_attack\u001B[49m\u001B[38;5;241;43m.\u001B[39;49m\u001B[43mgenerate\u001B[49m\u001B[43m(\u001B[49m\u001B[43mx\u001B[49m\u001B[38;5;241;43m=\u001B[39;49m\u001B[43mx\u001B[49m\u001B[43m,\u001B[49m\u001B[43m \u001B[49m\u001B[43my\u001B[49m\u001B[38;5;241;43m=\u001B[39;49m\u001B[43my\u001B[49m\u001B[43m,\u001B[49m\u001B[43m \u001B[49m\u001B[38;5;241;43m*\u001B[39;49m\u001B[38;5;241;43m*\u001B[39;49m\u001B[43mkwargs\u001B[49m\u001B[43m)\u001B[49m\n",
      "File \u001B[1;32m~\\Desktop\\Centrale\\G3\\SDI\\venv\\Lib\\site-packages\\art\\attacks\\evasion\\projected_gradient_descent\\projected_gradient_descent_numpy.py:362\u001B[0m, in \u001B[0;36mProjectedGradientDescentNumpy.generate\u001B[1;34m(self, x, y, **kwargs)\u001B[0m\n\u001B[0;32m    357\u001B[0m \u001B[38;5;28;01mfor\u001B[39;00m i_max_iter \u001B[38;5;129;01min\u001B[39;00m trange(\n\u001B[0;32m    358\u001B[0m     \u001B[38;5;28mself\u001B[39m\u001B[38;5;241m.\u001B[39mmax_iter, desc\u001B[38;5;241m=\u001B[39m\u001B[38;5;124m\"\u001B[39m\u001B[38;5;124mPGD - Iterations\u001B[39m\u001B[38;5;124m\"\u001B[39m, leave\u001B[38;5;241m=\u001B[39m\u001B[38;5;28;01mFalse\u001B[39;00m, disable\u001B[38;5;241m=\u001B[39m\u001B[38;5;129;01mnot\u001B[39;00m \u001B[38;5;28mself\u001B[39m\u001B[38;5;241m.\u001B[39mverbose\n\u001B[0;32m    359\u001B[0m ):\n\u001B[0;32m    360\u001B[0m     \u001B[38;5;28mself\u001B[39m\u001B[38;5;241m.\u001B[39m_i_max_iter \u001B[38;5;241m=\u001B[39m i_max_iter\n\u001B[1;32m--> 362\u001B[0m     batch \u001B[38;5;241m=\u001B[39m \u001B[38;5;28;43mself\u001B[39;49m\u001B[38;5;241;43m.\u001B[39;49m\u001B[43m_compute\u001B[49m\u001B[43m(\u001B[49m\n\u001B[0;32m    363\u001B[0m \u001B[43m        \u001B[49m\u001B[43mbatch\u001B[49m\u001B[43m,\u001B[49m\n\u001B[0;32m    364\u001B[0m \u001B[43m        \u001B[49m\u001B[43mx\u001B[49m\u001B[43m[\u001B[49m\u001B[43mbatch_index_1\u001B[49m\u001B[43m:\u001B[49m\u001B[43mbatch_index_2\u001B[49m\u001B[43m]\u001B[49m\u001B[43m,\u001B[49m\n\u001B[0;32m    365\u001B[0m \u001B[43m        \u001B[49m\u001B[43mbatch_labels\u001B[49m\u001B[43m,\u001B[49m\n\u001B[0;32m    366\u001B[0m \u001B[43m        \u001B[49m\u001B[43mmask_batch\u001B[49m\u001B[43m,\u001B[49m\n\u001B[0;32m    367\u001B[0m \u001B[43m        \u001B[49m\u001B[38;5;28;43mself\u001B[39;49m\u001B[38;5;241;43m.\u001B[39;49m\u001B[43meps\u001B[49m\u001B[43m,\u001B[49m\n\u001B[0;32m    368\u001B[0m \u001B[43m        \u001B[49m\u001B[38;5;28;43mself\u001B[39;49m\u001B[38;5;241;43m.\u001B[39;49m\u001B[43meps_step\u001B[49m\u001B[43m,\u001B[49m\n\u001B[0;32m    369\u001B[0m \u001B[43m        \u001B[49m\u001B[38;5;28;43mself\u001B[39;49m\u001B[38;5;241;43m.\u001B[39;49m\u001B[43m_project\u001B[49m\u001B[43m,\u001B[49m\n\u001B[0;32m    370\u001B[0m \u001B[43m        \u001B[49m\u001B[38;5;28;43mself\u001B[39;49m\u001B[38;5;241;43m.\u001B[39;49m\u001B[43mnum_random_init\u001B[49m\u001B[43m \u001B[49m\u001B[38;5;241;43m>\u001B[39;49m\u001B[43m \u001B[49m\u001B[38;5;241;43m0\u001B[39;49m\u001B[43m \u001B[49m\u001B[38;5;129;43;01mand\u001B[39;49;00m\u001B[43m \u001B[49m\u001B[43mi_max_iter\u001B[49m\u001B[43m \u001B[49m\u001B[38;5;241;43m==\u001B[39;49m\u001B[43m \u001B[49m\u001B[38;5;241;43m0\u001B[39;49m\u001B[43m,\u001B[49m\n\u001B[0;32m    371\u001B[0m \u001B[43m        \u001B[49m\u001B[38;5;28;43mself\u001B[39;49m\u001B[38;5;241;43m.\u001B[39;49m\u001B[43m_batch_id\u001B[49m\u001B[43m,\u001B[49m\n\u001B[0;32m    372\u001B[0m \u001B[43m        \u001B[49m\u001B[43mdecay\u001B[49m\u001B[38;5;241;43m=\u001B[39;49m\u001B[38;5;28;43mself\u001B[39;49m\u001B[38;5;241;43m.\u001B[39;49m\u001B[43mdecay\u001B[49m\u001B[43m,\u001B[49m\n\u001B[0;32m    373\u001B[0m \u001B[43m        \u001B[49m\u001B[43mmomentum\u001B[49m\u001B[38;5;241;43m=\u001B[39;49m\u001B[43mmomentum\u001B[49m\u001B[43m,\u001B[49m\n\u001B[0;32m    374\u001B[0m \u001B[43m    \u001B[49m\u001B[43m)\u001B[49m\n\u001B[0;32m    376\u001B[0m \u001B[38;5;28;01mif\u001B[39;00m rand_init_num \u001B[38;5;241m==\u001B[39m \u001B[38;5;241m0\u001B[39m:\n\u001B[0;32m    377\u001B[0m     \u001B[38;5;66;03m# initial (and possibly only) random restart: we only have this set of\u001B[39;00m\n\u001B[0;32m    378\u001B[0m     \u001B[38;5;66;03m# adversarial examples for now\u001B[39;00m\n\u001B[0;32m    379\u001B[0m     adv_x[batch_index_1:batch_index_2] \u001B[38;5;241m=\u001B[39m np\u001B[38;5;241m.\u001B[39mcopy(batch)\n",
      "File \u001B[1;32m~\\Desktop\\Centrale\\G3\\SDI\\venv\\Lib\\site-packages\\art\\attacks\\evasion\\fast_gradient.py:543\u001B[0m, in \u001B[0;36mFastGradientMethod._compute\u001B[1;34m(self, x, x_init, y, mask, eps, eps_step, project, random_init, batch_id_ext, decay, momentum)\u001B[0m\n\u001B[0;32m    540\u001B[0m         mask_batch \u001B[38;5;241m=\u001B[39m mask[batch_index_1:batch_index_2]\n\u001B[0;32m    542\u001B[0m \u001B[38;5;66;03m# Get perturbation\u001B[39;00m\n\u001B[1;32m--> 543\u001B[0m perturbation \u001B[38;5;241m=\u001B[39m \u001B[38;5;28;43mself\u001B[39;49m\u001B[38;5;241;43m.\u001B[39;49m\u001B[43m_compute_perturbation\u001B[49m\u001B[43m(\u001B[49m\u001B[43mbatch\u001B[49m\u001B[43m,\u001B[49m\u001B[43m \u001B[49m\u001B[43mbatch_labels\u001B[49m\u001B[43m,\u001B[49m\u001B[43m \u001B[49m\u001B[43mmask_batch\u001B[49m\u001B[43m,\u001B[49m\u001B[43m \u001B[49m\u001B[43mdecay\u001B[49m\u001B[43m,\u001B[49m\u001B[43m \u001B[49m\u001B[43mmomentum\u001B[49m\u001B[43m)\u001B[49m\n\u001B[0;32m    545\u001B[0m batch_eps: Union[\u001B[38;5;28mint\u001B[39m, \u001B[38;5;28mfloat\u001B[39m, np\u001B[38;5;241m.\u001B[39mndarray]\n\u001B[0;32m    546\u001B[0m batch_eps_step: Union[\u001B[38;5;28mint\u001B[39m, \u001B[38;5;28mfloat\u001B[39m, np\u001B[38;5;241m.\u001B[39mndarray]\n",
      "File \u001B[1;32m~\\Desktop\\Centrale\\G3\\SDI\\venv\\Lib\\site-packages\\art\\attacks\\evasion\\fast_gradient.py:398\u001B[0m, in \u001B[0;36mFastGradientMethod._compute_perturbation\u001B[1;34m(self, x, y, mask, decay, momentum)\u001B[0m\n\u001B[0;32m    395\u001B[0m tol \u001B[38;5;241m=\u001B[39m \u001B[38;5;241m10e-8\u001B[39m\n\u001B[0;32m    397\u001B[0m \u001B[38;5;66;03m# Get gradient wrt loss; invert it if attack is targeted\u001B[39;00m\n\u001B[1;32m--> 398\u001B[0m grad \u001B[38;5;241m=\u001B[39m \u001B[38;5;28;43mself\u001B[39;49m\u001B[38;5;241;43m.\u001B[39;49m\u001B[43mestimator\u001B[49m\u001B[38;5;241;43m.\u001B[39;49m\u001B[43mloss_gradient\u001B[49m\u001B[43m(\u001B[49m\u001B[43mx\u001B[49m\u001B[43m,\u001B[49m\u001B[43m \u001B[49m\u001B[43my\u001B[49m\u001B[43m)\u001B[49m \u001B[38;5;241m*\u001B[39m (\u001B[38;5;241m1\u001B[39m \u001B[38;5;241m-\u001B[39m \u001B[38;5;241m2\u001B[39m \u001B[38;5;241m*\u001B[39m \u001B[38;5;28mint\u001B[39m(\u001B[38;5;28mself\u001B[39m\u001B[38;5;241m.\u001B[39mtargeted))\n\u001B[0;32m    400\u001B[0m \u001B[38;5;66;03m# Write summary\u001B[39;00m\n\u001B[0;32m    401\u001B[0m \u001B[38;5;28;01mif\u001B[39;00m \u001B[38;5;28mself\u001B[39m\u001B[38;5;241m.\u001B[39msummary_writer \u001B[38;5;129;01mis\u001B[39;00m \u001B[38;5;129;01mnot\u001B[39;00m \u001B[38;5;28;01mNone\u001B[39;00m:  \u001B[38;5;66;03m# pragma: no cover\u001B[39;00m\n",
      "File \u001B[1;32m~\\Desktop\\Centrale\\G3\\SDI\\venv\\Lib\\site-packages\\art\\estimators\\classification\\scikitlearn.py:1318\u001B[0m, in \u001B[0;36mScikitlearnSVC.loss_gradient\u001B[1;34m(self, x, y, **kwargs)\u001B[0m\n\u001B[0;32m   1316\u001B[0m     alpha_i_k_y_i \u001B[38;5;241m=\u001B[39m \u001B[38;5;28mself\u001B[39m\u001B[38;5;241m.\u001B[39mmodel\u001B[38;5;241m.\u001B[39mdual_coef_[i_not_label_i, i_label_sv] \u001B[38;5;241m*\u001B[39m label_multiplier\n\u001B[0;32m   1317\u001B[0m     grad_kernel \u001B[38;5;241m=\u001B[39m \u001B[38;5;28mself\u001B[39m\u001B[38;5;241m.\u001B[39m_get_kernel_gradient_sv(i_label_sv, x_preprocessed[i_sample])\n\u001B[1;32m-> 1318\u001B[0m     gradients[i_sample, :] \u001B[38;5;241m+\u001B[39m\u001B[38;5;241m=\u001B[39m sign_multiplier \u001B[38;5;241m*\u001B[39m alpha_i_k_y_i \u001B[38;5;241m*\u001B[39m grad_kernel\n\u001B[0;32m   1320\u001B[0m \u001B[38;5;28;01mfor\u001B[39;00m i_not_label_sv \u001B[38;5;129;01min\u001B[39;00m \u001B[38;5;28mrange\u001B[39m(\n\u001B[0;32m   1321\u001B[0m     support_indices[i_not_label],\n\u001B[0;32m   1322\u001B[0m     support_indices[i_not_label \u001B[38;5;241m+\u001B[39m \u001B[38;5;241m1\u001B[39m],\n\u001B[0;32m   1323\u001B[0m ):\n\u001B[0;32m   1324\u001B[0m     alpha_i_k_y_i \u001B[38;5;241m=\u001B[39m \u001B[38;5;28mself\u001B[39m\u001B[38;5;241m.\u001B[39mmodel\u001B[38;5;241m.\u001B[39mdual_coef_[i_not_label_i, i_not_label_sv] \u001B[38;5;241m*\u001B[39m label_multiplier\n",
      "\u001B[1;31mKeyboardInterrupt\u001B[0m: "
     ]
    }
   ],
   "source": [
    "# Implement another attack\n",
    "from art.attacks.evasion import ProjectedGradientDescent\n",
    "\n",
    "# Create the adversarial attack\n",
    "attack = ProjectedGradientDescent(estimator=classifier, eps=0.5)\n",
    "\n",
    "# Generate the adversarial test examples\n",
    "X_test_adv = attack.generate(x=X_test)\n",
    "\n",
    "# Evaluate the classifier on the adversarial test examples\n",
    "y_pred_adv = classifier.predict(X_test_adv)\n",
    "print('Accuracy on adversarial test data:', accuracy_score(y_test, y_pred_adv))"
   ],
   "metadata": {
    "collapsed": false,
    "ExecuteTime": {
     "end_time": "2024-03-14T10:22:53.274456700Z",
     "start_time": "2024-03-14T10:19:52.172241800Z"
    }
   },
   "id": "27b5219687896062",
   "execution_count": 116
  }
 ],
 "metadata": {
  "kernelspec": {
   "display_name": "Python 3",
   "language": "python",
   "name": "python3"
  },
  "language_info": {
   "codemirror_mode": {
    "name": "ipython",
    "version": 2
   },
   "file_extension": ".py",
   "mimetype": "text/x-python",
   "name": "python",
   "nbconvert_exporter": "python",
   "pygments_lexer": "ipython2",
   "version": "2.7.6"
  }
 },
 "nbformat": 4,
 "nbformat_minor": 5
}
