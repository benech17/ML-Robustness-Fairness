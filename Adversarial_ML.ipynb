{
 "cells": [
  {
   "cell_type": "markdown",
   "source": [
    "# Robustness of Machine Learning Models using Adversarial Robustness Toolbox"
   ],
   "metadata": {
    "collapsed": false
   },
   "id": "5f495360e41974a2"
  },
  {
   "cell_type": "code",
   "execution_count": 1,
   "id": "initial_id",
   "metadata": {
    "collapsed": true,
    "ExecuteTime": {
     "end_time": "2024-03-15T07:58:46.383323400Z",
     "start_time": "2024-03-15T07:58:42.783718Z"
    }
   },
   "outputs": [
    {
     "name": "stdout",
     "output_type": "stream",
     "text": [
      "Requirement already satisfied: adversarial-robustness-toolbox in c:\\users\\mathi\\desktop\\centrale\\g3\\sdi\\venv\\lib\\site-packages (1.17.1)\n",
      "Requirement already satisfied: numpy>=1.18.0 in c:\\users\\mathi\\desktop\\centrale\\g3\\sdi\\venv\\lib\\site-packages (from adversarial-robustness-toolbox) (1.26.1)\n",
      "Requirement already satisfied: scipy>=1.4.1 in c:\\users\\mathi\\desktop\\centrale\\g3\\sdi\\venv\\lib\\site-packages (from adversarial-robustness-toolbox) (1.11.3)\n",
      "Requirement already satisfied: scikit-learn>=0.22.2 in c:\\users\\mathi\\desktop\\centrale\\g3\\sdi\\venv\\lib\\site-packages (from adversarial-robustness-toolbox) (1.3.2)\n",
      "Requirement already satisfied: six in c:\\users\\mathi\\desktop\\centrale\\g3\\sdi\\venv\\lib\\site-packages (from adversarial-robustness-toolbox) (1.16.0)\n",
      "Requirement already satisfied: setuptools in c:\\users\\mathi\\desktop\\centrale\\g3\\sdi\\venv\\lib\\site-packages (from adversarial-robustness-toolbox) (68.2.2)\n",
      "Requirement already satisfied: tqdm in c:\\users\\mathi\\desktop\\centrale\\g3\\sdi\\venv\\lib\\site-packages (from adversarial-robustness-toolbox) (4.66.2)\n",
      "Requirement already satisfied: joblib>=1.1.1 in c:\\users\\mathi\\desktop\\centrale\\g3\\sdi\\venv\\lib\\site-packages (from scikit-learn>=0.22.2->adversarial-robustness-toolbox) (1.3.2)\n",
      "Requirement already satisfied: threadpoolctl>=2.0.0 in c:\\users\\mathi\\desktop\\centrale\\g3\\sdi\\venv\\lib\\site-packages (from scikit-learn>=0.22.2->adversarial-robustness-toolbox) (3.2.0)\n",
      "Requirement already satisfied: colorama in c:\\users\\mathi\\desktop\\centrale\\g3\\sdi\\venv\\lib\\site-packages (from tqdm->adversarial-robustness-toolbox) (0.4.6)\n"
     ]
    }
   ],
   "source": [
    "!pip install adversarial-robustness-toolbox"
   ]
  },
  {
   "cell_type": "code",
   "outputs": [],
   "source": [
    "import numpy as np\n",
    "import matplotlib.pyplot as plt\n",
    "import pandas as pd"
   ],
   "metadata": {
    "collapsed": false,
    "ExecuteTime": {
     "end_time": "2024-03-15T08:47:42.114621500Z",
     "start_time": "2024-03-15T08:47:42.100748300Z"
    }
   },
   "id": "37f1bad4eb998ada",
   "execution_count": 107
  },
  {
   "cell_type": "markdown",
   "source": [
    "## Data Preprocessing"
   ],
   "metadata": {
    "collapsed": false
   },
   "id": "c77fbda55c333556"
  },
  {
   "cell_type": "code",
   "outputs": [],
   "source": [
    "data_path = './recruitmentdataset-2022-1.3.csv'"
   ],
   "metadata": {
    "collapsed": false,
    "ExecuteTime": {
     "end_time": "2024-03-15T08:52:56.025469500Z",
     "start_time": "2024-03-15T08:52:56.020962Z"
    }
   },
   "id": "7e3013b54e013df3",
   "execution_count": 149
  },
  {
   "cell_type": "code",
   "outputs": [
    {
     "data": {
      "text/plain": "       Id  gender  age nationality     sport  ind-university_grade  \\\n0  x8011e  female   24      German  Swimming                    70   \n1  x6077a    male   26      German      Golf                    67   \n2  x6006e  female   23       Dutch   Running                    67   \n3  x2173b    male   24       Dutch   Cricket                    70   \n4  x6241a  female   26      German      Golf                    59   \n5  x9063d  female   26       Dutch     Chess                    63   \n6  x5785d  female   27       Dutch    Tennis                    63   \n7  x8767c  female   22       Dutch  Swimming                    71   \n8  x6541b  female   28       Dutch  Football                    65   \n9  x3890b    male   24       Dutch  Football                    55   \n\n   ind-debateclub  ind-programming_exp  ind-international_exp  \\\n0           False                False                  False   \n1           False                 True                  False   \n2           False                 True                   True   \n3           False                 True                  False   \n4           False                False                  False   \n5           False                False                  False   \n6            True                 True                  False   \n7           False                 True                  False   \n8            True                False                  False   \n9            True                False                  False   \n\n   ind-entrepeneur_exp  ind-languages  ind-exact_study ind-degree company  \\\n0                False              1             True        phd       A   \n1                False              2             True   bachelor       A   \n2                False              0             True     master       A   \n3                False              1             True     master       A   \n4                False              1            False     master       A   \n5                False              1             True   bachelor       A   \n6                False              2             True   bachelor       A   \n7                False              1             True     master       A   \n8                 True              3            False   bachelor       A   \n9                 True              3            False     master       A   \n\n   decision  \n0      True  \n1     False  \n2     False  \n3      True  \n4      True  \n5      True  \n6     False  \n7      True  \n8     False  \n9      True  ",
      "text/html": "<div>\n<style scoped>\n    .dataframe tbody tr th:only-of-type {\n        vertical-align: middle;\n    }\n\n    .dataframe tbody tr th {\n        vertical-align: top;\n    }\n\n    .dataframe thead th {\n        text-align: right;\n    }\n</style>\n<table border=\"1\" class=\"dataframe\">\n  <thead>\n    <tr style=\"text-align: right;\">\n      <th></th>\n      <th>Id</th>\n      <th>gender</th>\n      <th>age</th>\n      <th>nationality</th>\n      <th>sport</th>\n      <th>ind-university_grade</th>\n      <th>ind-debateclub</th>\n      <th>ind-programming_exp</th>\n      <th>ind-international_exp</th>\n      <th>ind-entrepeneur_exp</th>\n      <th>ind-languages</th>\n      <th>ind-exact_study</th>\n      <th>ind-degree</th>\n      <th>company</th>\n      <th>decision</th>\n    </tr>\n  </thead>\n  <tbody>\n    <tr>\n      <th>0</th>\n      <td>x8011e</td>\n      <td>female</td>\n      <td>24</td>\n      <td>German</td>\n      <td>Swimming</td>\n      <td>70</td>\n      <td>False</td>\n      <td>False</td>\n      <td>False</td>\n      <td>False</td>\n      <td>1</td>\n      <td>True</td>\n      <td>phd</td>\n      <td>A</td>\n      <td>True</td>\n    </tr>\n    <tr>\n      <th>1</th>\n      <td>x6077a</td>\n      <td>male</td>\n      <td>26</td>\n      <td>German</td>\n      <td>Golf</td>\n      <td>67</td>\n      <td>False</td>\n      <td>True</td>\n      <td>False</td>\n      <td>False</td>\n      <td>2</td>\n      <td>True</td>\n      <td>bachelor</td>\n      <td>A</td>\n      <td>False</td>\n    </tr>\n    <tr>\n      <th>2</th>\n      <td>x6006e</td>\n      <td>female</td>\n      <td>23</td>\n      <td>Dutch</td>\n      <td>Running</td>\n      <td>67</td>\n      <td>False</td>\n      <td>True</td>\n      <td>True</td>\n      <td>False</td>\n      <td>0</td>\n      <td>True</td>\n      <td>master</td>\n      <td>A</td>\n      <td>False</td>\n    </tr>\n    <tr>\n      <th>3</th>\n      <td>x2173b</td>\n      <td>male</td>\n      <td>24</td>\n      <td>Dutch</td>\n      <td>Cricket</td>\n      <td>70</td>\n      <td>False</td>\n      <td>True</td>\n      <td>False</td>\n      <td>False</td>\n      <td>1</td>\n      <td>True</td>\n      <td>master</td>\n      <td>A</td>\n      <td>True</td>\n    </tr>\n    <tr>\n      <th>4</th>\n      <td>x6241a</td>\n      <td>female</td>\n      <td>26</td>\n      <td>German</td>\n      <td>Golf</td>\n      <td>59</td>\n      <td>False</td>\n      <td>False</td>\n      <td>False</td>\n      <td>False</td>\n      <td>1</td>\n      <td>False</td>\n      <td>master</td>\n      <td>A</td>\n      <td>True</td>\n    </tr>\n    <tr>\n      <th>5</th>\n      <td>x9063d</td>\n      <td>female</td>\n      <td>26</td>\n      <td>Dutch</td>\n      <td>Chess</td>\n      <td>63</td>\n      <td>False</td>\n      <td>False</td>\n      <td>False</td>\n      <td>False</td>\n      <td>1</td>\n      <td>True</td>\n      <td>bachelor</td>\n      <td>A</td>\n      <td>True</td>\n    </tr>\n    <tr>\n      <th>6</th>\n      <td>x5785d</td>\n      <td>female</td>\n      <td>27</td>\n      <td>Dutch</td>\n      <td>Tennis</td>\n      <td>63</td>\n      <td>True</td>\n      <td>True</td>\n      <td>False</td>\n      <td>False</td>\n      <td>2</td>\n      <td>True</td>\n      <td>bachelor</td>\n      <td>A</td>\n      <td>False</td>\n    </tr>\n    <tr>\n      <th>7</th>\n      <td>x8767c</td>\n      <td>female</td>\n      <td>22</td>\n      <td>Dutch</td>\n      <td>Swimming</td>\n      <td>71</td>\n      <td>False</td>\n      <td>True</td>\n      <td>False</td>\n      <td>False</td>\n      <td>1</td>\n      <td>True</td>\n      <td>master</td>\n      <td>A</td>\n      <td>True</td>\n    </tr>\n    <tr>\n      <th>8</th>\n      <td>x6541b</td>\n      <td>female</td>\n      <td>28</td>\n      <td>Dutch</td>\n      <td>Football</td>\n      <td>65</td>\n      <td>True</td>\n      <td>False</td>\n      <td>False</td>\n      <td>True</td>\n      <td>3</td>\n      <td>False</td>\n      <td>bachelor</td>\n      <td>A</td>\n      <td>False</td>\n    </tr>\n    <tr>\n      <th>9</th>\n      <td>x3890b</td>\n      <td>male</td>\n      <td>24</td>\n      <td>Dutch</td>\n      <td>Football</td>\n      <td>55</td>\n      <td>True</td>\n      <td>False</td>\n      <td>False</td>\n      <td>True</td>\n      <td>3</td>\n      <td>False</td>\n      <td>master</td>\n      <td>A</td>\n      <td>True</td>\n    </tr>\n  </tbody>\n</table>\n</div>"
     },
     "execution_count": 153,
     "metadata": {},
     "output_type": "execute_result"
    }
   ],
   "source": [
    "df = pd.read_csv(data_path)\n",
    "df.head(10)"
   ],
   "metadata": {
    "collapsed": false,
    "ExecuteTime": {
     "end_time": "2024-03-15T08:57:55.443267Z",
     "start_time": "2024-03-15T08:57:55.416811400Z"
    }
   },
   "id": "bd350b68b4f2278e",
   "execution_count": 153
  },
  {
   "cell_type": "code",
   "outputs": [],
   "source": [
    "from sklearn.model_selection import train_test_split\n",
    "from sklearn.preprocessing import StandardScaler\n",
    "from sklearn.svm import SVC\n",
    "from sklearn.metrics import accuracy_score\n",
    "\n",
    "# Replace boolean values with 0 and 1\n",
    "df = pd.get_dummies(df.drop('Id',axis=1), drop_first=True)\n",
    "\n",
    "df = df.replace({False: 0, True: 1})\n",
    "\n",
    "# Min-max scaling of columns age, ind-university_grade and ind-languages\n",
    "df['age'] = (df['age'] - df['age'].min()) / (df['age'].max() - df['age'].min())\n",
    "df['ind-university_grade'] = (df['ind-university_grade'] - df['ind-university_grade'].min()) / (df['ind-university_grade'].max() - df['ind-university_grade'].min())\n",
    "df['ind-languages'] = (df['ind-languages'] - df['ind-languages'].min()) / (df['ind-languages'].max() - df['ind-languages'].min())"
   ],
   "metadata": {
    "collapsed": false,
    "ExecuteTime": {
     "end_time": "2024-03-15T08:57:55.721511600Z",
     "start_time": "2024-03-15T08:57:55.683232100Z"
    }
   },
   "id": "26b3e3de6cf54d00",
   "execution_count": 154
  },
  {
   "cell_type": "code",
   "outputs": [
    {
     "data": {
      "text/plain": "        age  ind-university_grade  ind-debateclub  ind-programming_exp  \\\n0  0.272727              0.757576               0                    0   \n1  0.454545              0.666667               0                    1   \n2  0.181818              0.666667               0                    1   \n3  0.272727              0.757576               0                    1   \n4  0.454545              0.424242               0                    0   \n5  0.454545              0.545455               0                    0   \n6  0.545455              0.545455               1                    1   \n7  0.090909              0.787879               0                    1   \n8  0.636364              0.606061               1                    0   \n9  0.272727              0.303030               1                    0   \n\n   ind-international_exp  ind-entrepeneur_exp  ind-languages  ind-exact_study  \\\n0                      0                    0       0.333333                1   \n1                      0                    0       0.666667                1   \n2                      1                    0       0.000000                1   \n3                      0                    0       0.333333                1   \n4                      0                    0       0.333333                0   \n5                      0                    0       0.333333                1   \n6                      0                    0       0.666667                1   \n7                      0                    0       0.333333                1   \n8                      0                    1       1.000000                0   \n9                      0                    1       1.000000                0   \n\n   decision  gender_male  ...  sport_Golf  sport_Rugby  sport_Running  \\\n0         1            0  ...           0            0              0   \n1         0            1  ...           1            0              0   \n2         0            0  ...           0            0              1   \n3         1            1  ...           0            0              0   \n4         1            0  ...           1            0              0   \n5         1            0  ...           0            0              0   \n6         0            0  ...           0            0              0   \n7         1            0  ...           0            0              0   \n8         0            0  ...           0            0              0   \n9         1            1  ...           0            0              0   \n\n   sport_Swimming  sport_Tennis  ind-degree_master  ind-degree_phd  company_B  \\\n0               1             0                  0               1          0   \n1               0             0                  0               0          0   \n2               0             0                  1               0          0   \n3               0             0                  1               0          0   \n4               0             0                  1               0          0   \n5               0             0                  0               0          0   \n6               0             1                  0               0          0   \n7               1             0                  1               0          0   \n8               0             0                  0               0          0   \n9               0             0                  1               0          0   \n\n   company_C  company_D  \n0          0          0  \n1          0          0  \n2          0          0  \n3          0          0  \n4          0          0  \n5          0          0  \n6          0          0  \n7          0          0  \n8          0          0  \n9          0          0  \n\n[10 rows x 25 columns]",
      "text/html": "<div>\n<style scoped>\n    .dataframe tbody tr th:only-of-type {\n        vertical-align: middle;\n    }\n\n    .dataframe tbody tr th {\n        vertical-align: top;\n    }\n\n    .dataframe thead th {\n        text-align: right;\n    }\n</style>\n<table border=\"1\" class=\"dataframe\">\n  <thead>\n    <tr style=\"text-align: right;\">\n      <th></th>\n      <th>age</th>\n      <th>ind-university_grade</th>\n      <th>ind-debateclub</th>\n      <th>ind-programming_exp</th>\n      <th>ind-international_exp</th>\n      <th>ind-entrepeneur_exp</th>\n      <th>ind-languages</th>\n      <th>ind-exact_study</th>\n      <th>decision</th>\n      <th>gender_male</th>\n      <th>...</th>\n      <th>sport_Golf</th>\n      <th>sport_Rugby</th>\n      <th>sport_Running</th>\n      <th>sport_Swimming</th>\n      <th>sport_Tennis</th>\n      <th>ind-degree_master</th>\n      <th>ind-degree_phd</th>\n      <th>company_B</th>\n      <th>company_C</th>\n      <th>company_D</th>\n    </tr>\n  </thead>\n  <tbody>\n    <tr>\n      <th>0</th>\n      <td>0.272727</td>\n      <td>0.757576</td>\n      <td>0</td>\n      <td>0</td>\n      <td>0</td>\n      <td>0</td>\n      <td>0.333333</td>\n      <td>1</td>\n      <td>1</td>\n      <td>0</td>\n      <td>...</td>\n      <td>0</td>\n      <td>0</td>\n      <td>0</td>\n      <td>1</td>\n      <td>0</td>\n      <td>0</td>\n      <td>1</td>\n      <td>0</td>\n      <td>0</td>\n      <td>0</td>\n    </tr>\n    <tr>\n      <th>1</th>\n      <td>0.454545</td>\n      <td>0.666667</td>\n      <td>0</td>\n      <td>1</td>\n      <td>0</td>\n      <td>0</td>\n      <td>0.666667</td>\n      <td>1</td>\n      <td>0</td>\n      <td>1</td>\n      <td>...</td>\n      <td>1</td>\n      <td>0</td>\n      <td>0</td>\n      <td>0</td>\n      <td>0</td>\n      <td>0</td>\n      <td>0</td>\n      <td>0</td>\n      <td>0</td>\n      <td>0</td>\n    </tr>\n    <tr>\n      <th>2</th>\n      <td>0.181818</td>\n      <td>0.666667</td>\n      <td>0</td>\n      <td>1</td>\n      <td>1</td>\n      <td>0</td>\n      <td>0.000000</td>\n      <td>1</td>\n      <td>0</td>\n      <td>0</td>\n      <td>...</td>\n      <td>0</td>\n      <td>0</td>\n      <td>1</td>\n      <td>0</td>\n      <td>0</td>\n      <td>1</td>\n      <td>0</td>\n      <td>0</td>\n      <td>0</td>\n      <td>0</td>\n    </tr>\n    <tr>\n      <th>3</th>\n      <td>0.272727</td>\n      <td>0.757576</td>\n      <td>0</td>\n      <td>1</td>\n      <td>0</td>\n      <td>0</td>\n      <td>0.333333</td>\n      <td>1</td>\n      <td>1</td>\n      <td>1</td>\n      <td>...</td>\n      <td>0</td>\n      <td>0</td>\n      <td>0</td>\n      <td>0</td>\n      <td>0</td>\n      <td>1</td>\n      <td>0</td>\n      <td>0</td>\n      <td>0</td>\n      <td>0</td>\n    </tr>\n    <tr>\n      <th>4</th>\n      <td>0.454545</td>\n      <td>0.424242</td>\n      <td>0</td>\n      <td>0</td>\n      <td>0</td>\n      <td>0</td>\n      <td>0.333333</td>\n      <td>0</td>\n      <td>1</td>\n      <td>0</td>\n      <td>...</td>\n      <td>1</td>\n      <td>0</td>\n      <td>0</td>\n      <td>0</td>\n      <td>0</td>\n      <td>1</td>\n      <td>0</td>\n      <td>0</td>\n      <td>0</td>\n      <td>0</td>\n    </tr>\n    <tr>\n      <th>5</th>\n      <td>0.454545</td>\n      <td>0.545455</td>\n      <td>0</td>\n      <td>0</td>\n      <td>0</td>\n      <td>0</td>\n      <td>0.333333</td>\n      <td>1</td>\n      <td>1</td>\n      <td>0</td>\n      <td>...</td>\n      <td>0</td>\n      <td>0</td>\n      <td>0</td>\n      <td>0</td>\n      <td>0</td>\n      <td>0</td>\n      <td>0</td>\n      <td>0</td>\n      <td>0</td>\n      <td>0</td>\n    </tr>\n    <tr>\n      <th>6</th>\n      <td>0.545455</td>\n      <td>0.545455</td>\n      <td>1</td>\n      <td>1</td>\n      <td>0</td>\n      <td>0</td>\n      <td>0.666667</td>\n      <td>1</td>\n      <td>0</td>\n      <td>0</td>\n      <td>...</td>\n      <td>0</td>\n      <td>0</td>\n      <td>0</td>\n      <td>0</td>\n      <td>1</td>\n      <td>0</td>\n      <td>0</td>\n      <td>0</td>\n      <td>0</td>\n      <td>0</td>\n    </tr>\n    <tr>\n      <th>7</th>\n      <td>0.090909</td>\n      <td>0.787879</td>\n      <td>0</td>\n      <td>1</td>\n      <td>0</td>\n      <td>0</td>\n      <td>0.333333</td>\n      <td>1</td>\n      <td>1</td>\n      <td>0</td>\n      <td>...</td>\n      <td>0</td>\n      <td>0</td>\n      <td>0</td>\n      <td>1</td>\n      <td>0</td>\n      <td>1</td>\n      <td>0</td>\n      <td>0</td>\n      <td>0</td>\n      <td>0</td>\n    </tr>\n    <tr>\n      <th>8</th>\n      <td>0.636364</td>\n      <td>0.606061</td>\n      <td>1</td>\n      <td>0</td>\n      <td>0</td>\n      <td>1</td>\n      <td>1.000000</td>\n      <td>0</td>\n      <td>0</td>\n      <td>0</td>\n      <td>...</td>\n      <td>0</td>\n      <td>0</td>\n      <td>0</td>\n      <td>0</td>\n      <td>0</td>\n      <td>0</td>\n      <td>0</td>\n      <td>0</td>\n      <td>0</td>\n      <td>0</td>\n    </tr>\n    <tr>\n      <th>9</th>\n      <td>0.272727</td>\n      <td>0.303030</td>\n      <td>1</td>\n      <td>0</td>\n      <td>0</td>\n      <td>1</td>\n      <td>1.000000</td>\n      <td>0</td>\n      <td>1</td>\n      <td>1</td>\n      <td>...</td>\n      <td>0</td>\n      <td>0</td>\n      <td>0</td>\n      <td>0</td>\n      <td>0</td>\n      <td>1</td>\n      <td>0</td>\n      <td>0</td>\n      <td>0</td>\n      <td>0</td>\n    </tr>\n  </tbody>\n</table>\n<p>10 rows × 25 columns</p>\n</div>"
     },
     "execution_count": 155,
     "metadata": {},
     "output_type": "execute_result"
    }
   ],
   "source": [
    "# Display the first few rows of the dataframe\n",
    "df.head(10)"
   ],
   "metadata": {
    "collapsed": false,
    "ExecuteTime": {
     "end_time": "2024-03-15T08:57:56.524645600Z",
     "start_time": "2024-03-15T08:57:56.512198300Z"
    }
   },
   "id": "1b9dce29a117f2a",
   "execution_count": 155
  },
  {
   "cell_type": "code",
   "outputs": [
    {
     "name": "stdout",
     "output_type": "stream",
     "text": [
      "0       1\n",
      "1       0\n",
      "2       0\n",
      "3       1\n",
      "4       1\n",
      "       ..\n",
      "3995    0\n",
      "3996    0\n",
      "3997    0\n",
      "3998    0\n",
      "3999    0\n",
      "Name: decision, Length: 4000, dtype: int64\n",
      "      0  1\n",
      "0     0  1\n",
      "1     1  0\n",
      "2     1  0\n",
      "3     0  1\n",
      "4     0  1\n",
      "...  .. ..\n",
      "3995  1  0\n",
      "3996  1  0\n",
      "3997  1  0\n",
      "3998  1  0\n",
      "3999  1  0\n",
      "\n",
      "[4000 rows x 2 columns]\n"
     ]
    }
   ],
   "source": [
    "X = df.drop(['decision'], axis=1)\n",
    "y = df['decision']\n",
    "\n",
    "# One-hot encode the target variable (one column for each class)\n",
    "y = pd.get_dummies(y)\n",
    "y = y.replace({False: 0, True: 1})"
   ],
   "metadata": {
    "collapsed": false,
    "ExecuteTime": {
     "end_time": "2024-03-15T08:57:57.975582500Z",
     "start_time": "2024-03-15T08:57:57.965183400Z"
    }
   },
   "id": "52a15c751ce7f194",
   "execution_count": 156
  },
  {
   "cell_type": "code",
   "outputs": [],
   "source": [
    "X_train, X_test, y_train, y_test = train_test_split(X, y, test_size=0.2, random_state=42)\n",
    "\n",
    "X_train = X_train.to_numpy()\n",
    "X_test = X_test.to_numpy()\n",
    "y_train = y_train.to_numpy()\n",
    "y_test = y_test.to_numpy()"
   ],
   "metadata": {
    "collapsed": false,
    "ExecuteTime": {
     "end_time": "2024-03-15T09:02:37.080902900Z",
     "start_time": "2024-03-15T09:02:37.074761500Z"
    }
   },
   "id": "5e9db31669ddd88a",
   "execution_count": 168
  },
  {
   "cell_type": "markdown",
   "source": [
    "## Support Vector Classifier and Fast Gradient Method Attack"
   ],
   "metadata": {
    "collapsed": false
   },
   "id": "170a80eae910837c"
  },
  {
   "cell_type": "code",
   "outputs": [
    {
     "name": "stdout",
     "output_type": "stream",
     "text": [
      "(3200, 24) (3200, 2)\n",
      "[[1 0]\n",
      " [0 1]\n",
      " [1 0]\n",
      " ...\n",
      " [1 0]\n",
      " [0 1]\n",
      " [1 0]]\n",
      "Accuracy on test data: 0.7925\n"
     ]
    }
   ],
   "source": [
    "from art.estimators.classification import SklearnClassifier\n",
    "model = SVC(C=1.0, kernel='rbf', gamma='auto')\n",
    "\n",
    "# Create a classifier from the trained model\n",
    "classifier = SklearnClassifier(model=model, clip_values=(0, 1))\n",
    "\n",
    "y_train = np.reshape(y_train, (-1, 2))\n",
    "\n",
    "classifier.fit(X_train, y_train)\n",
    "y_pred = classifier.predict(X_test)\n",
    "print('Accuracy on test data:', accuracy_score(y_test, y_pred))"
   ],
   "metadata": {
    "collapsed": false,
    "ExecuteTime": {
     "end_time": "2024-03-15T09:02:37.686131700Z",
     "start_time": "2024-03-15T09:02:37.345544Z"
    }
   },
   "id": "651dbac40bab5020",
   "execution_count": 169
  },
  {
   "cell_type": "code",
   "outputs": [
    {
     "name": "stdout",
     "output_type": "stream",
     "text": [
      "Accuracy on adversarial test data: 0.555\n"
     ]
    }
   ],
   "source": [
    "from art.attacks.evasion import FastGradientMethod\n",
    "\n",
    "# Create the adversarial attack\n",
    "attack = FastGradientMethod(estimator=classifier, eps=0.2)\n",
    "\n",
    "# Generate the adversarial test examples\n",
    "X_test_adv = attack.generate(x=X_test)\n",
    "\n",
    "# Evaluate the classifier on the adversarial test examples\n",
    "y_pred_adv = classifier.predict(X_test_adv)\n",
    "print('Accuracy on adversarial test data:', accuracy_score(y_test, y_pred_adv))"
   ],
   "metadata": {
    "collapsed": false,
    "ExecuteTime": {
     "end_time": "2024-03-15T09:03:18.428761800Z",
     "start_time": "2024-03-15T09:03:00.775286600Z"
    }
   },
   "id": "c01d7ccc6b5d585",
   "execution_count": 171
  },
  {
   "cell_type": "markdown",
   "source": [
    "We can see that the accuracy on the adversarial test data goes down to 0.55 from 0.79. This means that the SVC model is not robust to the Fast Gradient Method attack with an epsilon of 0.2. Increasing epsilon will lower the accuracy even more, but then the attacks will be more noticeable."
   ],
   "metadata": {
    "collapsed": false
   },
   "id": "9fc011dc5f7fcaa0"
  },
  {
   "cell_type": "code",
   "outputs": [
    {
     "name": "stdout",
     "output_type": "stream",
     "text": [
      "Loss sensitivity: 2.604759\n",
      "Empirical robustness: 0.15218254195023623\n"
     ]
    }
   ],
   "source": [
    "#Metrics to study the robustness of the model (CLEVER, loss sensitivity, empirical robustness)\n",
    "from art.metrics import loss_sensitivity, empirical_robustness\n",
    "loss_sensitivity = loss_sensitivity(classifier, X_test, y_test)\n",
    "print('Loss sensitivity:', loss_sensitivity)\n",
    "\n",
    "\n",
    "emp_robustness = empirical_robustness(classifier, X_test, 'fgsm')\n",
    "print('Empirical robustness:', emp_robustness)"
   ],
   "metadata": {
    "collapsed": false,
    "ExecuteTime": {
     "end_time": "2024-03-15T08:58:54.057079300Z",
     "start_time": "2024-03-15T08:58:18.088211500Z"
    }
   },
   "id": "3f75444a24785bf",
   "execution_count": 160
  },
  {
   "cell_type": "markdown",
   "source": [
    "Here, we computed two metrics to study the robustness of the model. The first one is the loss sensitivity, which measures the sensitivity of the loss function to small perturbations in the input data. It is equal to the larget variation of the output of a model under a small perturbation of the input. We obtained a value of 2.6, but it is hard to interpret it without a reference.\n",
    "\n",
    "The second metric is the empirical robustness, which measures the minimum perturbation that needs to be applied to the input data to change the output of the model. The value obtained is 0.15, which is quite a good result. Concretely, it means that if an attacker wants to change the output of the model, they need to apply a sufficiently large perturbation to the input data, but not too large to be noticeable."
   ],
   "metadata": {
    "collapsed": false
   },
   "id": "a8f9ae471b1547c3"
  },
  {
   "cell_type": "markdown",
   "source": [
    "## Decision Tree Classifier and Decision Tree Attack"
   ],
   "metadata": {
    "collapsed": false
   },
   "id": "92034aa0d2eef93b"
  },
  {
   "cell_type": "code",
   "outputs": [],
   "source": [
    "y_test = y_test.argmax(axis=1)"
   ],
   "metadata": {
    "collapsed": false,
    "ExecuteTime": {
     "end_time": "2024-03-15T08:58:54.057079300Z",
     "start_time": "2024-03-15T08:58:54.048430400Z"
    }
   },
   "id": "6e07864ae54b0bb",
   "execution_count": 161
  },
  {
   "cell_type": "code",
   "outputs": [
    {
     "name": "stdout",
     "output_type": "stream",
     "text": [
      "Accuracy on test data: 0.80875\n"
     ]
    }
   ],
   "source": [
    "# Scikit-learn tree classifier\n",
    "from sklearn.tree import DecisionTreeClassifier\n",
    "from art.estimators.classification.scikitlearn import ScikitlearnDecisionTreeClassifier\n",
    "\n",
    "# Create a decision tree classifier\n",
    "model = DecisionTreeClassifier()\n",
    "\n",
    "# Create a classifier from the trained model\n",
    "classifier = ScikitlearnDecisionTreeClassifier(model=model)\n",
    "\n",
    "classifier.fit(X_train, y_train)\n",
    "y_pred = classifier.predict(X_test)\n",
    "y_pred = np.argmax(y_pred, axis=1)\n",
    "print('Accuracy on test data:', accuracy_score(y_test, y_pred))"
   ],
   "metadata": {
    "collapsed": false,
    "ExecuteTime": {
     "end_time": "2024-03-15T08:58:54.087851400Z",
     "start_time": "2024-03-15T08:58:54.055566700Z"
    }
   },
   "id": "de92ccb0e45c4a01",
   "execution_count": 162
  },
  {
   "cell_type": "code",
   "outputs": [
    {
     "data": {
      "text/plain": "Decision tree attack:   0%|          | 0/800 [00:00<?, ?it/s]",
      "application/vnd.jupyter.widget-view+json": {
       "version_major": 2,
       "version_minor": 0,
       "model_id": "0681df62c67f4360a3a966dc6a062dfe"
      }
     },
     "metadata": {},
     "output_type": "display_data"
    },
    {
     "name": "stdout",
     "output_type": "stream",
     "text": [
      "Accuracy on adversarial test data: 0.19125\n"
     ]
    }
   ],
   "source": [
    "from art.attacks.evasion import DecisionTreeAttack\n",
    "\n",
    "# Create the adversarial attack\n",
    "attack = DecisionTreeAttack(classifier)\n",
    "\n",
    "# Generate the adversarial test examples\n",
    "X_test_adv = attack.generate(x=X_test)\n",
    "\n",
    "# Evaluate the classifier on the adversarial test examples\n",
    "y_pred_adv = classifier.predict(X_test_adv)\n",
    "\n",
    "# Replace 0 and 1 with False and True\n",
    "y_pred_adv = np.argmax(y_pred_adv, axis=1)\n",
    "print('Accuracy on adversarial test data:', accuracy_score(y_test, y_pred_adv))"
   ],
   "metadata": {
    "collapsed": false,
    "ExecuteTime": {
     "end_time": "2024-03-15T08:58:54.450552400Z",
     "start_time": "2024-03-15T08:58:54.071779Z"
    }
   },
   "id": "206077b1c519874",
   "execution_count": 163
  },
  {
   "cell_type": "markdown",
   "source": [
    "Here, we observe an accuracy on the adversarial test data of 0.19, which is a very poor result compared to the initial accuracy of 0.81. This can be explained by the fact that our dataset is not very large, and that the designed attack is inherently designed to be effective against decision trees."
   ],
   "metadata": {
    "collapsed": false
   },
   "id": "339e3af0a729f201"
  },
  {
   "cell_type": "markdown",
   "source": [
    "## XGBoost Classifier and Robustness Verification"
   ],
   "metadata": {
    "collapsed": false
   },
   "id": "b75d57a4138a319f"
  },
  {
   "cell_type": "code",
   "outputs": [
    {
     "name": "stdout",
     "output_type": "stream",
     "text": [
      "Accuracy on test data: 0.84\n"
     ]
    }
   ],
   "source": [
    "from xgboost import XGBClassifier\n",
    "\n",
    "# Create a decision tree classifier\n",
    "model = XGBClassifier(n_estimators=4, max_depth=6)\n",
    "model.fit(X_train, np.argmax(y_train, axis=1))\n",
    "\n",
    "# Evaluate the classifier on the test data\n",
    "y_pred = model.predict(X_test)\n",
    "print('Accuracy on test data:', accuracy_score(y_test, y_pred))"
   ],
   "metadata": {
    "collapsed": false,
    "ExecuteTime": {
     "end_time": "2024-03-15T08:58:54.461261600Z",
     "start_time": "2024-03-15T08:58:54.444875300Z"
    }
   },
   "id": "9be8904cf90c5a60",
   "execution_count": 164
  },
  {
   "cell_type": "markdown",
   "source": [
    "As a final study of robustness, we study the robustness verification of the XGBoost model using the RobustnessVerificationTreeModelsCliqueMethod. This method is based on the paper \"Robustness Verification of Tree Models\" (https://arxiv.org/abs/1906.03849) and is designed to verify the robustness of tree models to adversarial attacks. It is based on the computation of the average bound and the verified error at a given epsilon. The average bound is the average of the maximum perturbation that can be applied to the input data without changing the output of the model. The verified error is the maximum error that can be obtained by applying a perturbation of epsilon to the input data."
   ],
   "metadata": {
    "collapsed": false
   },
   "id": "385c001333b1b9c1"
  },
  {
   "cell_type": "code",
   "outputs": [
    {
     "data": {
      "text/plain": "Decision tree verification:   0%|          | 0/800 [00:00<?, ?it/s]",
      "application/vnd.jupyter.widget-view+json": {
       "version_major": 2,
       "version_minor": 0,
       "model_id": "de9958a532be4f0d88d14e617ede8902"
      }
     },
     "metadata": {},
     "output_type": "display_data"
    },
    {
     "name": "stdout",
     "output_type": "stream",
     "text": [
      "Average bound: 0.11629101562500047\n",
      "Verified error at eps: 0.735\n"
     ]
    }
   ],
   "source": [
    "from art.estimators.classification import XGBoostClassifier\n",
    "from art.metrics import RobustnessVerificationTreeModelsCliqueMethod\n",
    "\n",
    "model = XGBClassifier(n_estimators=4, max_depth=6)\n",
    "model.fit(X_train, np.argmax(y_train, axis=1))\n",
    "\n",
    "classifier = XGBoostClassifier(model=model, nb_features=13, nb_classes=2)\n",
    "\n",
    "rt = RobustnessVerificationTreeModelsCliqueMethod(classifier=classifier)\n",
    "average_bound, verified_error = rt.verify(x=X_test, y=y_test, eps_init=0.3, nb_search_steps=10, max_clique=2,\n",
    "                                          max_level=2)\n",
    "\n",
    "print('Average bound:', average_bound)\n",
    "print('Verified error at eps:', verified_error)"
   ],
   "metadata": {
    "collapsed": false,
    "ExecuteTime": {
     "end_time": "2024-03-15T08:59:02.637754900Z",
     "start_time": "2024-03-15T08:58:54.467366100Z"
    }
   },
   "id": "fd6a909670b1b250",
   "execution_count": 166
  },
  {
   "cell_type": "markdown",
   "source": [
    "The average bound is 0.116, which is of the same order of magnitude as the empirical robustness of the SVC model. \n",
    "\n",
    "The verified error at $\\epsilon=0.3$ is 0.735, which we consider to be a good result. Indeed, the value of $\\epsilon$ is quite large, making the attack noticeable, and the verified error is on the other hand quite small, meaning that the model is robust to this attack."
   ],
   "metadata": {
    "collapsed": false
   },
   "id": "de7475c5d3fbaa2b"
  },
  {
   "cell_type": "markdown",
   "source": [],
   "metadata": {
    "collapsed": false
   },
   "id": "520c89dcbf9ce1fa"
  }
 ],
 "metadata": {
  "kernelspec": {
   "display_name": "Python 3",
   "language": "python",
   "name": "python3"
  },
  "language_info": {
   "codemirror_mode": {
    "name": "ipython",
    "version": 2
   },
   "file_extension": ".py",
   "mimetype": "text/x-python",
   "name": "python",
   "nbconvert_exporter": "python",
   "pygments_lexer": "ipython2",
   "version": "2.7.6"
  }
 },
 "nbformat": 4,
 "nbformat_minor": 5
}
